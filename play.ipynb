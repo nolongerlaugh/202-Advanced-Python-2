{
 "cells": [
  {
   "cell_type": "code",
   "execution_count": 1,
   "id": "b6b97de8",
   "metadata": {},
   "outputs": [],
   "source": [
    "import numpy as np\n",
    "import matplotlib.pyplot as plt"
   ]
  },
  {
   "cell_type": "code",
   "execution_count": 2,
   "id": "a837d962",
   "metadata": {},
   "outputs": [],
   "source": [
    "G = 6.67e-11\n",
    "delta_t = 10"
   ]
  },
  {
   "cell_type": "code",
   "execution_count": 3,
   "id": "a81cd3bc",
   "metadata": {},
   "outputs": [],
   "source": [
    "class CosmicBody:\n",
    "    def __init__(self, mass: float, vec_v: np.ndarray, vec_P: np.ndarray, radius=0.0):\n",
    "        self.mass = mass\n",
    "        self.vec_v = vec_v\n",
    "        self.vec_P = vec_P\n",
    "        self.delta_V = np.array([0., 0.])\n",
    "        self.radius = radius\n",
    "\n",
    "    def destroy(self):\n",
    "        self.mass = 0.0\n",
    "        \n",
    "    def move(self):\n",
    "        if self.is_destroyed():\n",
    "            return\n",
    "        self.vec_v += self.delta_V\n",
    "        self.vec_P += self.vec_v * delta_t\n",
    "        \n",
    "    def is_destroyed(self):\n",
    "        return self.mass == 0.0\n",
    "\n",
    "    def gravitate(self, bodys: list):\n",
    "        if self.is_destroyed():\n",
    "            return\n",
    "        \n",
    "        masses = np.array([body.mass for body in bodys])\n",
    "        r = np.array([np.linalg.norm(body.vec_P - self.vec_P) for body in bodys])\n",
    "        \n",
    "        is_destroyed = False\n",
    "        for i, elem in enumerate(r):\n",
    "            if elem < self.radius + bodys[i].radius:\n",
    "                self.destroy()\n",
    "                bodys[i].destroy()\n",
    "                is_destroyed = True\n",
    "        if is_destroyed:\n",
    "            return\n",
    "        \n",
    "        x = np.array([(body.vec_P[0] - self.vec_P[0]) for body in bodys])\n",
    "        y = np.array([(body.vec_P[1] - self.vec_P[1]) for body in bodys])\n",
    "        self.delta_V[0] = G * delta_t * np.sum(masses / (r ** 3) * x)\n",
    "        self.delta_V[1] = G * delta_t * np.sum(masses / (r ** 3) * y)\n",
    "\n",
    "class Star(CosmicBody):\n",
    "    def __init__(self, mass, radius=0.0):\n",
    "        super().__init__(mass, np.array([0., 0.]), np.array([0., 0.]), radius)"
   ]
  },
  {
   "cell_type": "code",
   "execution_count": 4,
   "id": "80eab681",
   "metadata": {},
   "outputs": [],
   "source": [
    "class World:\n",
    "    def __init__(self, bodys):\n",
    "        self.bodys = []\n",
    "        self.active_trajectories = []\n",
    "        self.destroyed_trajectories = []\n",
    "        for body in bodys:\n",
    "            self.add_body(body)\n",
    "\n",
    "    def step(self):\n",
    "        for i in range(len(self.bodys)):\n",
    "            self.bodys[i].gravitate(self.bodys[:i] + self.bodys[i+1:])\n",
    "        \n",
    "        need_update = False\n",
    "        for i in range(len(self.bodys)):\n",
    "            self.bodys[i].move()\n",
    "            if self.bodys[i].is_destroyed():\n",
    "                need_update = True\n",
    "            else:\n",
    "                self.active_trajectories[i].append(self.bodys[i].vec_P.copy())\n",
    "        \n",
    "        if need_update:\n",
    "            new_bodys = []\n",
    "            new_active_trajectories = []\n",
    "            for i in range(len(self.bodys)):\n",
    "                if not self.bodys[i].is_destroyed():\n",
    "                    new_bodys.append(self.bodys[i])\n",
    "                    new_active_trajectories.append(self.active_trajectories[i])\n",
    "                else:\n",
    "                    self.destroyed_trajectories.append(self.active_trajectories[i])\n",
    "            self.bodys = new_bodys\n",
    "            self.active_trajectories = new_active_trajectories\n",
    "\n",
    "    def add_body(self, body):\n",
    "        self.bodys.append(body)\n",
    "        self.active_trajectories.append([body.vec_P])\n",
    "  \n",
    "    def bodys_count(self):\n",
    "        return len(self.bodys)\n",
    "    \n",
    "    def plot_world(self):\n",
    "        for trajectory in self.active_trajectories + self.destroyed_trajectories:\n",
    "            x_values = [item[0] for item in trajectory]\n",
    "            y_values = [item[1] for item in trajectory]\n",
    "            plt.scatter(x_values, y_values)"
   ]
  },
  {
   "cell_type": "code",
   "execution_count": 5,
   "id": "418f608f",
   "metadata": {},
   "outputs": [],
   "source": [
    "def test_two_fishes():\n",
    "    times = np.arange(0, 100 * 24 * 360)\n",
    "    varvara = Star(1.9e30)\n",
    "    fish1 = CosmicBody(3.33e23, np.array([29800. / np.sqrt(2), -29800. / np.sqrt(2)]), np.array([146e9 / np.sqrt(2), 146e9 / np.sqrt(2)]), 7e6)\n",
    "    fish2 = CosmicBody(3.33e23, np.array([29800. / np.sqrt(2), 29800. / np.sqrt(2)]), np.array([146e9 / np.sqrt(2), -(146e9 / np.sqrt(2))]), 7e6)\n",
    "    world = World([varvara, fish1, fish2])\n",
    "\n",
    "    for time in times:\n",
    "        world.step()\n",
    "    world.plot_world()\n",
    "    plt.show()\n",
    "    \n",
    "    assert world.bodys_count() == 1"
   ]
  },
  {
   "cell_type": "code",
   "execution_count": 6,
   "id": "e7e3c681",
   "metadata": {},
   "outputs": [],
   "source": [
    "def test_one_fish():\n",
    "    times = np.arange(0, 365.25 * 24 * 360)\n",
    "    varvara = Star(1.9e30)\n",
    "    fish = CosmicBody(3.33e23, np.array([29800. / np.sqrt(2), -29800. / np.sqrt(2)]), np.array([146e9 / np.sqrt(2), 146e9 / np.sqrt(2)]), 7e6)\n",
    "    world = World([varvara, fish])\n",
    "    \n",
    "    for time in times:\n",
    "        world.step()\n",
    "    world.plot_world()\n",
    "    plt.show()\n",
    "    \n",
    "    assert world.bodys_count() == 2"
   ]
  },
  {
   "cell_type": "code",
   "execution_count": 7,
   "id": "5a927cd8",
   "metadata": {},
   "outputs": [
    {
     "data": {
      "image/png": "[encoded data removed]",
      "text/plain": [
       "<Figure size 432x288 with 1 Axes>"
      ]
     },
     "metadata": {
      "needs_background": "light"
     },
     "output_type": "display_data"
    }
   ],
   "source": [
    "test_two_fishes()"
   ]
  },
  {
   "cell_type": "code",
   "execution_count": 8,
   "id": "6aed3354",
   "metadata": {},
   "outputs": [
    {
     "data": {
      "image/png": "[encoded data removed]",
      "text/plain": [
       "<Figure size 432x288 with 1 Axes>"
      ]
     },
     "metadata": {
      "needs_background": "light"
     },
     "output_type": "display_data"
    }
   ],
   "source": [
    "test_one_fish()"
   ]
  },
  {
   "cell_type": "code",
   "execution_count": null,
   "id": "7b4aae80",
   "metadata": {},
   "outputs": [],
   "source": []
  }
 ],
 "metadata": {
  "kernelspec": {
   "display_name": "Python 3 (ipykernel)",
   "language": "python",
   "name": "python3"
  },
  "language_info": {
   "codemirror_mode": {
    "name": "ipython",
    "version": 3
   },
   "file_extension": ".py",
   "mimetype": "text/x-python",
   "name": "python",
   "nbconvert_exporter": "python",
   "pygments_lexer": "ipython3",
   "version": "3.9.5"
  }
 },
 "nbformat": 4,
 "nbformat_minor": 5
}
